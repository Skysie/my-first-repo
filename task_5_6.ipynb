{
  "nbformat": 4,
  "nbformat_minor": 0,
  "metadata": {
    "colab": {
      "provenance": [],
      "authorship_tag": "ABX9TyOx0WtybRO8tYvCtKQ7p7Qq",
      "include_colab_link": true
    },
    "kernelspec": {
      "name": "python3",
      "display_name": "Python 3"
    },
    "language_info": {
      "name": "python"
    }
  },
  "cells": [
    {
      "cell_type": "markdown",
      "metadata": {
        "id": "view-in-github",
        "colab_type": "text"
      },
      "source": [
        "<a href=\"https://colab.research.google.com/github/Skysie/my-first-repo/blob/main/task_5_6.ipynb\" target=\"_parent\"><img src=\"https://colab.research.google.com/assets/colab-badge.svg\" alt=\"Open In Colab\"/></a>"
      ]
    },
    {
      "cell_type": "code",
      "source": [
        "import random\n",
        "import time\n",
        "def math_game():\n",
        "    penalty_time = 3\n",
        "    while True:\n",
        "        n1 = random.randint(1, 100)\n",
        "        n2 = random.randint(1, 100)\n",
        "        print (f'Сколько будет {n1} + {n2}?')\n",
        "        try:\n",
        "            answer = int(input())\n",
        "            if answer == n1 + n2:\n",
        "                print(f'Поздравляю! Ваш ответ правильный')\n",
        "                break\n",
        "            else:\n",
        "                print (f'Неверно! Штрафная пауза: {penalty_time} секунды')\n",
        "                time.sleep(penalty_time)\n",
        "                penalty_time += 1\n",
        "        except ValueError:\n",
        "            print('Введите натуральное число.')\n",
        "math_game()\n"
      ],
      "metadata": {
        "id": "KiCrFrtuiCPD"
      },
      "execution_count": null,
      "outputs": []
    }
  ]
}